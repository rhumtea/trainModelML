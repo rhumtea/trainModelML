{
  "nbformat": 4,
  "nbformat_minor": 0,
  "metadata": {
    "colab": {
      "provenance": [],
      "authorship_tag": "ABX9TyN52uxhxgKWbaR3nXn1XxCM",
      "include_colab_link": true
    },
    "kernelspec": {
      "name": "python3",
      "display_name": "Python 3"
    },
    "language_info": {
      "name": "python"
    }
  },
  "cells": [
    {
      "cell_type": "markdown",
      "metadata": {
        "id": "view-in-github",
        "colab_type": "text"
      },
      "source": [
        "<a href=\"https://colab.research.google.com/github/rhumtea/trainModelML/blob/main/phong_project.ipynb\" target=\"_parent\"><img src=\"https://colab.research.google.com/assets/colab-badge.svg\" alt=\"Open In Colab\"/></a>"
      ]
    },
    {
      "cell_type": "markdown",
      "source": [
        "1. Introduction:\n",
        "- This project designs and train the Deep Learnign model.\n",
        "- I choose the Natural Inmages with 8 classes from Kaggle.\n",
        "- Link: https://www.kaggle.com/datasets/prasunroy/natural-images"
      ],
      "metadata": {
        "id": "JXPxPCQB_KOA"
      }
    },
    {
      "cell_type": "code",
      "source": [
        "import os\n",
        "import zipfile\n",
        "import tensorflow as tf\n",
        "from tensorflow.keras.preprocessing.image import ImageDataGenerator\n",
        "import kagglehub\n",
        "\n",
        "# Download the dataset from Kaggle and save in Google Colab Files\n",
        "!kaggle datasets download -d prasunroy/natural-images"
      ],
      "metadata": {
        "id": "oIbGDKjSBNHq",
        "outputId": "1cb113b0-169f-444f-812d-0e8cad93f8f3",
        "colab": {
          "base_uri": "https://localhost:8080/"
        }
      },
      "execution_count": 1,
      "outputs": [
        {
          "output_type": "stream",
          "name": "stdout",
          "text": [
            "Dataset URL: https://www.kaggle.com/datasets/prasunroy/natural-images\n",
            "License(s): CC-BY-NC-SA-4.0\n",
            "Downloading natural-images.zip to /content\n",
            " 97% 333M/342M [00:02<00:00, 153MB/s]\n",
            "100% 342M/342M [00:02<00:00, 151MB/s]\n"
          ]
        }
      ]
    },
    {
      "cell_type": "code",
      "source": [
        "# Unzip the natural-images.zip\n",
        "with zipfile.ZipFile('natural-images.zip', 'r') as zip_ref:\n",
        "  zip_ref.extractall('')\n",
        "\n",
        "# Define path for original dataset\n",
        "data_dir = 'natural_images'"
      ],
      "metadata": {
        "id": "4VHREdU-ELm-"
      },
      "execution_count": 2,
      "outputs": []
    },
    {
      "cell_type": "code",
      "source": [
        "import shutil\n",
        "import random\n",
        "\n",
        "# Define path for split data\n",
        "base_dir = 'data_split'\n",
        "\n",
        "# Define path for train, validation and test directory\n",
        "train_dir = os.path.join(base_dir, 'train')\n",
        "val_dir = os.path.join(base_dir, 'val')\n",
        "test_dir = os.path.join(base_dir, 'test')\n",
        "\n",
        "# Create directories\n",
        "os.makedirs(train_dir, exist_ok=True)\n",
        "os.makedirs(val_dir, exist_ok=True)\n",
        "os.makedirs(test_dir, exist_ok=True)"
      ],
      "metadata": {
        "id": "VCAhObhXEu2m"
      },
      "execution_count": 7,
      "outputs": []
    },
    {
      "cell_type": "code",
      "source": [
        "# Split ratio\n",
        "train_ratio = 0.7\n",
        "val_ratio = 0.15\n",
        "test_ratio = 0.15"
      ],
      "metadata": {
        "id": "Yq0nNSgQGwNw"
      },
      "execution_count": 8,
      "outputs": []
    },
    {
      "cell_type": "code",
      "source": [
        "# Split data\n",
        "categories = os.listdir(data_dir)\n",
        "\n",
        "for category in categories:\n",
        "  category_path = os.path.join(data_dir, category)\n",
        "\n",
        "  if not os.path.isdir(category_path): continue\n",
        "\n",
        "  # Create subdirectories for each class in train and val files\n",
        "  os.makedirs(os.path.join(train_dir, category), exist_ok=True)\n",
        "  os.makedirs(os.path.join(val_dir, category), exist_ok=True)\n",
        "\n",
        "  # Get all images in the category to split\n",
        "  images = os.listdir(category_path)\n",
        "  random.shuffle(images)\n",
        "\n",
        "  # Find indices of image to split\n",
        "  total_images = len(images)\n",
        "  train_images_index = int(train_ratio * total_images)\n",
        "  val_images_index = int((train_ratio + val_ratio) * total_images)\n",
        "\n",
        "  # Split data by indices\n",
        "  train_images = images[:train_images_index]\n",
        "  val_images = images[train_images_index:val_images_index]\n",
        "  test_images = images[val_images_index:]\n",
        "\n",
        "  # Move images to train and val directories with folders as original file:\n",
        "  for image in train_images:\n",
        "    shutil.copy(os.path.join(category_path, image), os.path.join(train_dir, category))\n",
        "\n",
        "  for image in val_images:\n",
        "    shutil.copy(os.path.join(category_path, image), os.path.join(val_dir, category))\n",
        "\n",
        "  # Move all images to test directory:\n",
        "  for image in test_images:\n",
        "    shutil.copy(os.path.join(category_path, image), test_dir)"
      ],
      "metadata": {
        "id": "01mYUmCYHALo"
      },
      "execution_count": 9,
      "outputs": []
    },
    {
      "cell_type": "code",
      "source": [
        "# Define train generator which includes augmentation to expand the dataset\n",
        "# and make the model more roburst\n",
        "train_datagen = ImageDataGenerator(\n",
        "    rescale=1.0 / 255,\n",
        "    rotation_range = 20,\n",
        "    width_shift_range = 0.2,\n",
        "    height_shift_range = 0.2,\n",
        "    zoom_range = 0.2,\n",
        "    horizontal_flip = True,\n",
        ")"
      ],
      "metadata": {
        "id": "OewU47BxK326"
      },
      "execution_count": 10,
      "outputs": []
    },
    {
      "cell_type": "code",
      "source": [
        "# Define validation and test generators with normalization\n",
        "val_datagen = ImageDataGenerator(rescale=1.0/255)\n",
        "test_datagen = ImageDataGenerator(rescale=1.0/255)"
      ],
      "metadata": {
        "id": "I_icj8THMJdm"
      },
      "execution_count": 11,
      "outputs": []
    },
    {
      "cell_type": "code",
      "source": [
        "# Set image height, width for resizing image from th original size (uniformity)\n",
        "# Set batch_size for deciding how many images per batch during train and validation\n",
        "img_height, img_width = 150, 150\n",
        "batch_size = 32"
      ],
      "metadata": {
        "id": "v3myl-HIOqXb"
      },
      "execution_count": 12,
      "outputs": []
    },
    {
      "cell_type": "code",
      "source": [
        "# Training generator\n",
        "train_generator = train_datagen.flow_from_directory(\n",
        "    train_dir,\n",
        "    target_size = (img_height, img_width),\n",
        "    batch_size = batch_size,\n",
        "    class_mode = 'categorical' # because of one-hot encode labels\n",
        ")\n",
        "\n",
        "# Validation generator\n",
        "val_generator = val_datagen.flow_from_directory(\n",
        "    val_dir,\n",
        "    target_size = (img_height, img_width),\n",
        "    batch_size = batch_size,\n",
        "    class_mode = 'categorical'\n",
        ")"
      ],
      "metadata": {
        "id": "phkA_RNHPitp",
        "outputId": "d8c79404-be27-46b7-e7bf-7f5d177ccdef",
        "colab": {
          "base_uri": "https://localhost:8080/"
        }
      },
      "execution_count": 18,
      "outputs": [
        {
          "output_type": "stream",
          "name": "stdout",
          "text": [
            "Found 4826 images belonging to 8 classes.\n",
            "Found 1034 images belonging to 8 classes.\n"
          ]
        }
      ]
    },
    {
      "cell_type": "code",
      "source": [
        "# Test generator should be unlabeled.\n",
        "import pandas as pd\n",
        "\n",
        "# Make a list of all test images\n",
        "test_images = [os.path.join(test_dir, fname) for fname in os.listdir(test_dir)]\n",
        "print(len(test_images))\n",
        "\n",
        "# Convert test_images into DataFrame - contains file paths\n",
        "test_df = pd.DataFrame({'testimages' : test_images})\n",
        "\n",
        "# Test generator\n",
        "test_generator = test_datagen.flow_from_dataframe(\n",
        "    dataframe = test_df,\n",
        "    x_col = 'testimages',\n",
        "    y_col = None,\n",
        "    target_size = (img_height, img_width),\n",
        "    batch_size = batch_size,\n",
        "    class_mode = None,\n",
        "    shuffle = False,\n",
        ")\n"
      ],
      "metadata": {
        "id": "i00cZHASUMF0",
        "outputId": "73630f3d-5154-44f5-aeac-2b33245f7aad",
        "colab": {
          "base_uri": "https://localhost:8080/"
        }
      },
      "execution_count": 23,
      "outputs": [
        {
          "output_type": "stream",
          "name": "stdout",
          "text": [
            "1039\n",
            "Found 1039 validated image filenames.\n"
          ]
        }
      ]
    },
    {
      "cell_type": "markdown",
      "source": [
        "2. Check before create Model"
      ],
      "metadata": {
        "id": "X2Te7G3aadQk"
      }
    },
    {
      "cell_type": "code",
      "source": [
        "# Get the number of classes\n",
        "num_classes = len(train_generator.class_indices)\n",
        "print(num_classes)\n",
        "class_names = [item for item in train_generator.class_indices]\n",
        "print(class_names)"
      ],
      "metadata": {
        "id": "zQR5SAPPZ2OL",
        "outputId": "865be874-8290-4226-9f05-6bd35c2bebcd",
        "colab": {
          "base_uri": "https://localhost:8080/"
        }
      },
      "execution_count": 24,
      "outputs": [
        {
          "output_type": "stream",
          "name": "stdout",
          "text": [
            "8\n",
            "['airplane', 'car', 'cat', 'dog', 'flower', 'fruit', 'motorbike', 'person']\n"
          ]
        }
      ]
    }
  ]
}